{
 "cells": [
  {
   "cell_type": "markdown",
   "metadata": {},
   "source": [
    "<a href=\"https://www.hydroffice.org/epom/\"><img src=\"images/000_000_epom_logo.png\" alt=\"ePOM\" title=\"Open ePOM home page\" align=\"center\" width=\"12%\" alt=\"Python logo\\\"></a>"
   ]
  },
  {
   "cell_type": "markdown",
   "metadata": {},
   "source": [
    "# Programming Basic with Python - Evaluation"
   ]
  },
  {
   "cell_type": "markdown",
   "metadata": {},
   "source": [
    "A few details about this evaluation notebook:\n",
    "\n",
    "* This notebook is organized in several sections. \n",
    "\n",
    "* The code cells among different sections are independent, thus you do not need to complete all the cells in a section before moving to the next one.\n",
    "\n",
    "* You are allowed to access the [Programming Basics with Python](../python_basics/index.ipynb) notebooks that you completed during the past weeks."
   ]
  },
  {
   "cell_type": "markdown",
   "metadata": {},
   "source": [
    "---"
   ]
  },
  {
   "cell_type": "markdown",
   "metadata": {},
   "source": [
    "# Section 0"
   ]
  },
  {
   "cell_type": "markdown",
   "metadata": {},
   "source": [
    "Create and print a `name` variable containing your first name:"
   ]
  },
  {
   "cell_type": "code",
   "execution_count": null,
   "metadata": {},
   "outputs": [],
   "source": []
  },
  {
   "cell_type": "markdown",
   "metadata": {},
   "source": [
    "Store the length of `name` in a `name_length` variable, then print the resulting value:"
   ]
  },
  {
   "cell_type": "code",
   "execution_count": null,
   "metadata": {},
   "outputs": [],
   "source": []
  },
  {
   "cell_type": "markdown",
   "metadata": {},
   "source": [
    "Use `name` and `name_length` to create a full `sentence` variable of your choice, then print the resulting string:"
   ]
  },
  {
   "cell_type": "code",
   "execution_count": null,
   "metadata": {},
   "outputs": [],
   "source": []
  },
  {
   "cell_type": "markdown",
   "metadata": {},
   "source": [
    "Retrieve and print the type of `sentence`:"
   ]
  },
  {
   "cell_type": "code",
   "execution_count": null,
   "metadata": {},
   "outputs": [],
   "source": []
  },
  {
   "cell_type": "markdown",
   "metadata": {},
   "source": [
    "***"
   ]
  },
  {
   "cell_type": "markdown",
   "metadata": {},
   "source": [
    "# Section 1"
   ]
  },
  {
   "cell_type": "markdown",
   "metadata": {},
   "source": [
    "Create two variables (`v0` and `v1`) with values `9` and `2.7`: "
   ]
  },
  {
   "cell_type": "code",
   "execution_count": null,
   "metadata": {},
   "outputs": [],
   "source": []
  },
  {
   "cell_type": "markdown",
   "metadata": {},
   "source": [
    "Store the result of the division of `v0` by `v1` in a variable named `v01_div`, then print the resulting value with an accuracy of two decimal numbers:"
   ]
  },
  {
   "cell_type": "code",
   "execution_count": null,
   "metadata": {},
   "outputs": [],
   "source": []
  },
  {
   "cell_type": "markdown",
   "metadata": {},
   "source": [
    "Retrieve and print the types of the `v0`, `v1`, and `v01_div` variables:"
   ]
  },
  {
   "cell_type": "code",
   "execution_count": null,
   "metadata": {},
   "outputs": [],
   "source": []
  },
  {
   "cell_type": "markdown",
   "metadata": {},
   "source": [
    "***"
   ]
  },
  {
   "cell_type": "markdown",
   "metadata": {},
   "source": [
    "# Section 2"
   ]
  },
  {
   "cell_type": "markdown",
   "metadata": {},
   "source": [
    "Create and print a `dolphins` list with at least 5 species of [ocean dolphins](https://en.wikipedia.org/wiki/Dolphin#Ocean_dolphins):"
   ]
  },
  {
   "cell_type": "code",
   "execution_count": null,
   "metadata": {},
   "outputs": [],
   "source": []
  },
  {
   "cell_type": "markdown",
   "metadata": {},
   "source": [
    "Print the number of species in the `dolphins` list:"
   ]
  },
  {
   "cell_type": "code",
   "execution_count": null,
   "metadata": {},
   "outputs": [],
   "source": []
  },
  {
   "cell_type": "markdown",
   "metadata": {},
   "source": [
    "Check whether the `\"Spinner dolphin\"` is present in the `dolphins` list, then print the result of the research: "
   ]
  },
  {
   "cell_type": "code",
   "execution_count": null,
   "metadata": {},
   "outputs": [],
   "source": []
  },
  {
   "cell_type": "markdown",
   "metadata": {},
   "source": [
    "***"
   ]
  },
  {
   "cell_type": "markdown",
   "metadata": {},
   "source": [
    "# Section 3"
   ]
  },
  {
   "cell_type": "markdown",
   "metadata": {},
   "source": [
    "Create and print a `river_dolphins` dictionary with name (as keys) and repartition (as values) for [river dolphins](https://en.wikipedia.org/wiki/Dolphin#River_dolphins):"
   ]
  },
  {
   "cell_type": "code",
   "execution_count": null,
   "metadata": {},
   "outputs": [],
   "source": []
  },
  {
   "cell_type": "markdown",
   "metadata": {},
   "source": [
    "Create a `favorite_dolphin` variable with the name of a dolphin of your choice:"
   ]
  },
  {
   "cell_type": "code",
   "execution_count": null,
   "metadata": {},
   "outputs": [],
   "source": []
  },
  {
   "cell_type": "markdown",
   "metadata": {},
   "source": [
    "Create and print a sentence containing both the `selected_dolphin` and the corresponding repartition retrieved from the `river_dolphins` dictionary:"
   ]
  },
  {
   "cell_type": "code",
   "execution_count": null,
   "metadata": {},
   "outputs": [],
   "source": []
  },
  {
   "cell_type": "markdown",
   "metadata": {},
   "source": [
    "***"
   ]
  },
  {
   "cell_type": "markdown",
   "metadata": {},
   "source": [
    "# Section 4"
   ]
  },
  {
   "cell_type": "markdown",
   "metadata": {},
   "source": [
    "Print a warning for sound speed values that are:\n",
    "* Equal or less than 1350 m/s, and\n",
    "* Greater than 1550 m/s:"
   ]
  },
  {
   "cell_type": "code",
   "execution_count": 3,
   "metadata": {},
   "outputs": [
    {
     "name": "stdout",
     "output_type": "stream",
     "text": [
      "Warning: sound speed is 1350.0 m/s\n",
      "Warning: sound speed is 1553.7 m/s\n"
     ]
    }
   ],
   "source": [
    "ss_list = [1500.6, 1501.3, 1350.0, 1498.2, 1504.4, 1553.7, 1550.0, 1532.3]\n",
    "\n",
    "# solution\n",
    "for ss_value in ss_list:\n",
    "    \n",
    "    if (ss_value <= 1450.0) or (ss_value > 1550.0):\n",
    "        print(\"Warning: sound speed is %.1f m/s\" % (ss_value, ))"
   ]
  },
  {
   "cell_type": "markdown",
   "metadata": {},
   "source": [
    "***"
   ]
  },
  {
   "cell_type": "markdown",
   "metadata": {},
   "source": [
    "# Section 5"
   ]
  },
  {
   "cell_type": "markdown",
   "metadata": {},
   "source": [
    "Populate and print a `section_metadata` dictionary containing the following three keys: \n",
    "* The \"section_number\" of this exercise,\n",
    "* Your \"username\", and\n",
    "* The \"current_time\" "
   ]
  },
  {
   "cell_type": "code",
   "execution_count": 5,
   "metadata": {},
   "outputs": [
    {
     "name": "stdout",
     "output_type": "stream",
     "text": [
      "{'section_number': 5, 'username': 'gmasetti', 'current_time': datetime.datetime(2019, 8, 17, 11, 39)}\n"
     ]
    }
   ],
   "source": [
    "from datetime import datetime\n",
    "\n",
    "# solution\n",
    "section_metadata = dict()\n",
    "section_metadata[\"section_number\"] = 5\n",
    "section_metadata[\"username\"] = \"gmasetti\"\n",
    "section_metadata[\"current_time\"] = datetime(2019, 8, 17, 11, 39, 0)\n",
    "\n",
    "print(section_metadata)"
   ]
  },
  {
   "cell_type": "markdown",
   "metadata": {},
   "source": [
    "Create and print a `section_sentence` string with all the values in `section_metadata`:"
   ]
  },
  {
   "cell_type": "code",
   "execution_count": 12,
   "metadata": {},
   "outputs": [
    {
     "name": "stdout",
     "output_type": "stream",
     "text": [
      "gmasetti is working on section 5 at 2019-08-17 11:39:00\n"
     ]
    }
   ],
   "source": [
    "# solution\n",
    "section_sentence = \"%s is working on section %d at %s\" % (section_metadata[\"username\"], \n",
    "                                                          section_metadata[\"section_number\"], \n",
    "                                                          section_metadata[\"current_time\"])\n",
    "print(section_sentence)"
   ]
  },
  {
   "cell_type": "markdown",
   "metadata": {},
   "source": [
    "***"
   ]
  },
  {
   "cell_type": "markdown",
   "metadata": {},
   "source": [
    "# Section 6"
   ]
  },
  {
   "cell_type": "markdown",
   "metadata": {},
   "source": [
    "Create a `PressureData` class with the following two class attributes:\n",
    "* A `values` list for the pressure data.\n",
    "* A `metadata` dictionary."
   ]
  },
  {
   "cell_type": "code",
   "execution_count": 14,
   "metadata": {},
   "outputs": [],
   "source": [
    "# solution\n",
    "class PressureData:\n",
    "    \"\"\"A class for pressure data\"\"\"\n",
    "    \n",
    "    def __init__(self):\n",
    "        self.values = list()\n",
    "        self.metadata = dict()"
   ]
  },
  {
   "cell_type": "markdown",
   "metadata": {},
   "source": [
    "Create a `pressure` instance of `PressureData`, then print its empty list of values:"
   ]
  },
  {
   "cell_type": "code",
   "execution_count": 16,
   "metadata": {},
   "outputs": [
    {
     "name": "stdout",
     "output_type": "stream",
     "text": [
      "[]\n"
     ]
    }
   ],
   "source": [
    "pressure = PressureData()\n",
    "print(pressure.values)"
   ]
  },
  {
   "cell_type": "markdown",
   "metadata": {},
   "source": [
    "Populate the `values` of `pressure` with the following values: 1013.25, 1314.80, 1666.62, 1817.40, then print the `values`:"
   ]
  },
  {
   "cell_type": "code",
   "execution_count": 17,
   "metadata": {},
   "outputs": [
    {
     "name": "stdout",
     "output_type": "stream",
     "text": [
      "[1013.15, 1314.8, 1666.62, 1817.4]\n"
     ]
    }
   ],
   "source": [
    "# solution\n",
    "pressure.values.append(1013.15)\n",
    "pressure.values.append(1314.80)\n",
    "pressure.values.append(1666.62)\n",
    "pressure.values.append(1817.40)\n",
    "print(pressure.values)"
   ]
  },
  {
   "cell_type": "markdown",
   "metadata": {},
   "source": [
    "Populate and print the `metadata` of `pressure` with:\n",
    "- `\"collection_time\"`: August 18, 2019 at 4:45 pm,\n",
    "- `\"uom\"` (unit of measure): mbar:"
   ]
  },
  {
   "cell_type": "code",
   "execution_count": 18,
   "metadata": {},
   "outputs": [
    {
     "name": "stdout",
     "output_type": "stream",
     "text": [
      "{'collection time': datetime.datetime(2019, 8, 18, 16, 45), 'uom': 'mbar'}\n"
     ]
    }
   ],
   "source": [
    "from datetime import datetime\n",
    "\n",
    "# solution\n",
    "pressure.metadata[\"collection time\"] = datetime(2019, 8, 18, 16, 45, 0)\n",
    "pressure.metadata[\"uom\"] = \"mbar\"\n",
    "print(pressure.metadata)"
   ]
  },
  {
   "cell_type": "markdown",
   "metadata": {},
   "source": [
    "***"
   ]
  },
  {
   "cell_type": "markdown",
   "metadata": {},
   "source": [
    "# Section 7"
   ]
  },
  {
   "cell_type": "markdown",
   "metadata": {},
   "source": [
    "Write a `from_f_to_c` function that convert temperature value in [degrees Fahrenheit to degrees Celsius](https://en.wikipedia.org/wiki/Fahrenheit#Definition_and_conversion):"
   ]
  },
  {
   "cell_type": "code",
   "execution_count": 29,
   "metadata": {},
   "outputs": [],
   "source": [
    "# solution\n",
    "def from_f_to_c(input_temp):\n",
    "    return (input_temp - 32.0) * 5 / 9"
   ]
  },
  {
   "cell_type": "markdown",
   "metadata": {},
   "source": [
    "Use the `from_f_to_c` function to print in degrees Celsius the values in degrees Fahrenheit stored in the `temp_list`:"
   ]
  },
  {
   "cell_type": "code",
   "execution_count": 30,
   "metadata": {},
   "outputs": [
    {
     "name": "stdout",
     "output_type": "stream",
     "text": [
      "23.0 °F = -5.0 °C\n",
      "32.0 °F = 0.0 °C\n",
      "55.4 °F = 13.0 °C\n",
      "68.5 °F = 20.3 °C\n",
      "100.0 °F = 37.8 °C\n",
      "212.0 °F = 100.0 °C\n"
     ]
    }
   ],
   "source": [
    "temp_list = [23.0, 32.0, 55.4, 68.5, 100.0, 212.0] # °F\n",
    "\n",
    "# solution\n",
    "for temp_value in temp_list:\n",
    "    print(\"%.1f °F = %.1f °C\" % (temp_value, from_f_to_c(temp_value)))"
   ]
  },
  {
   "cell_type": "markdown",
   "metadata": {},
   "source": [
    "***"
   ]
  },
  {
   "cell_type": "markdown",
   "metadata": {},
   "source": [
    "# Section 8"
   ]
  },
  {
   "cell_type": "markdown",
   "metadata": {},
   "source": [
    "How many salinity values stored in the `sal_path` file path are greater than 31.0 PSU? Print the answer:"
   ]
  },
  {
   "cell_type": "code",
   "execution_count": 36,
   "metadata": {},
   "outputs": [
    {
     "name": "stdout",
     "output_type": "stream",
     "text": [
      "There are 11 values greater than 31.0 PSU\n"
     ]
    }
   ],
   "source": [
    "import os\n",
    "sal_path = os.path.abspath(os.path.join(os.path.curdir, \"data\", \"sal.txt\"))\n",
    "\n",
    "# solution\n",
    "sal_file = open(sal_path)\n",
    "sal_content = sal_file.read()\n",
    "sal_file.close()\n",
    "\n",
    "count = 0\n",
    "sal_lines = sal_content.splitlines()\n",
    "for sal_line in sal_lines:\n",
    "    if float(sal_line) > 31.0:\n",
    "        count += 1  # equivalent to: count = count + 1\n",
    "        \n",
    "print(\"There are %d values of salinity greater than 31.0 PSU\" % (count, ))"
   ]
  },
  {
   "cell_type": "markdown",
   "metadata": {},
   "source": [
    "***"
   ]
  },
  {
   "cell_type": "markdown",
   "metadata": {},
   "source": [
    "# Section 9"
   ]
  },
  {
   "cell_type": "markdown",
   "metadata": {},
   "source": [
    "Add a note containing your personal feedback (i.e., comments and suggestions) about the \"Programming Basics with Python\" notebooks in the \"community\" folder on [Piazza.com](https://piazza.com/class/js5dnu0q39n6qe)."
   ]
  },
  {
   "cell_type": "markdown",
   "metadata": {},
   "source": [
    "***"
   ]
  },
  {
   "cell_type": "markdown",
   "metadata": {},
   "source": [
    "<img align=\"left\" width=\"5%\" style=\"padding-right:10px;\" src=\"images/email.png\">\n",
    "\n",
    "*For issues or suggestions related to this notebook, write to: epom@ccom.unh.edu*"
   ]
  }
 ],
 "metadata": {
  "kernelspec": {
   "display_name": "Python 3",
   "language": "python",
   "name": "python3"
  },
  "language_info": {
   "codemirror_mode": {
    "name": "ipython",
    "version": 3
   },
   "file_extension": ".py",
   "mimetype": "text/x-python",
   "name": "python",
   "nbconvert_exporter": "python",
   "pygments_lexer": "ipython3",
   "version": "3.6.7"
  }
 },
 "nbformat": 4,
 "nbformat_minor": 2
}
