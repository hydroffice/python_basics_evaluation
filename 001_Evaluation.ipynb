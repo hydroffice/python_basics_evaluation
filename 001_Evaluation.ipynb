{
 "cells": [
  {
   "cell_type": "markdown",
   "metadata": {},
   "source": [
    "<a href=\"https://www.hydroffice.org/epom/\"><img src=\"images/000_000_epom_logo.png\" alt=\"ePOM\" title=\"Open ePOM home page\" align=\"center\" width=\"12%\" alt=\"Python logo\\\"></a>"
   ]
  },
  {
   "cell_type": "markdown",
   "metadata": {},
   "source": [
    "# Programming Basic with Python - Evaluation"
   ]
  },
  {
   "cell_type": "markdown",
   "metadata": {},
   "source": [
    "* This notebook is organized in several sections. \n",
    "\n",
    "* The code cells among different sections are independent, thus you do not need to complete all the cells in a section before moving to the next one.\n",
    "\n",
    "* You must work on your own. \n",
    "  * You are not allowed to interact with the other classmates. \n",
    "  * If you need clarifications about an exercise, ask the instructors.\n",
    "\n",
    "* You are allowed to access the [Programming Basics with Python](../python_basics/index.ipynb) notebooks that you completed during the past weeks."
   ]
  },
  {
   "cell_type": "markdown",
   "metadata": {},
   "source": [
    "---"
   ]
  },
  {
   "cell_type": "markdown",
   "metadata": {},
   "source": [
    "# Section 0"
   ]
  },
  {
   "cell_type": "markdown",
   "metadata": {},
   "source": [
    "Create and print a `city` variable containing your favorite city:"
   ]
  },
  {
   "cell_type": "code",
   "execution_count": 1,
   "metadata": {},
   "outputs": [
    {
     "name": "stdout",
     "output_type": "stream",
     "text": [
      "Florence\n"
     ]
    }
   ],
   "source": [
    "# solution\n",
    "city = \"Florence\"\n",
    "print(city)"
   ]
  },
  {
   "cell_type": "markdown",
   "metadata": {},
   "source": [
    "Assign the length of `city` to a `city_length` variable, then print the resulting value:"
   ]
  },
  {
   "cell_type": "code",
   "execution_count": 2,
   "metadata": {},
   "outputs": [
    {
     "name": "stdout",
     "output_type": "stream",
     "text": [
      "8\n"
     ]
    }
   ],
   "source": [
    "# solution\n",
    "city_length = len(city)\n",
    "print(city_length)"
   ]
  },
  {
   "cell_type": "markdown",
   "metadata": {},
   "source": [
    "Use `city` and `city_length` to create a full `sentence` variable of your choice, then print the resulting string:"
   ]
  },
  {
   "cell_type": "code",
   "execution_count": 3,
   "metadata": {},
   "outputs": [
    {
     "name": "stdout",
     "output_type": "stream",
     "text": [
      "Florence is a 8-letter city.\n"
     ]
    }
   ],
   "source": [
    "# solution\n",
    "sentence = city + \" is a \" + str(city_length) + \"-letter city.\"\n",
    "print(sentence)"
   ]
  },
  {
   "cell_type": "markdown",
   "metadata": {},
   "source": [
    "Retrieve and print the type of the `sentence` variable:"
   ]
  },
  {
   "cell_type": "code",
   "execution_count": 4,
   "metadata": {},
   "outputs": [
    {
     "name": "stdout",
     "output_type": "stream",
     "text": [
      "<class 'str'>\n"
     ]
    }
   ],
   "source": [
    "# solution\n",
    "print(type(sentence))"
   ]
  },
  {
   "cell_type": "markdown",
   "metadata": {},
   "source": [
    "***"
   ]
  },
  {
   "cell_type": "markdown",
   "metadata": {},
   "source": [
    "# Section 1"
   ]
  },
  {
   "cell_type": "markdown",
   "metadata": {},
   "source": [
    "Create two variables (`v0` and `v1`) with values `3.53` and `5`: "
   ]
  },
  {
   "cell_type": "code",
   "execution_count": 5,
   "metadata": {},
   "outputs": [],
   "source": [
    "# solution\n",
    "v0 = 3.53\n",
    "v1 = 5"
   ]
  },
  {
   "cell_type": "markdown",
   "metadata": {},
   "source": [
    "Store the result of the multiplication of `v0` by `v1` in a variable named `v01_multi`, then print the resulting value with an accuracy of two decimal numbers:"
   ]
  },
  {
   "cell_type": "code",
   "execution_count": 6,
   "metadata": {},
   "outputs": [
    {
     "name": "stdout",
     "output_type": "stream",
     "text": [
      "17.65\n"
     ]
    }
   ],
   "source": [
    "# solution\n",
    "v01_multi = v0 * v1\n",
    "print(\"%.2f\" % v01_multi)"
   ]
  },
  {
   "cell_type": "markdown",
   "metadata": {},
   "source": [
    "Retrieve and print the types of the `v0`, `v1`, and `v01_multi` variables:"
   ]
  },
  {
   "cell_type": "code",
   "execution_count": 7,
   "metadata": {},
   "outputs": [
    {
     "name": "stdout",
     "output_type": "stream",
     "text": [
      "<class 'float'>\n",
      "<class 'int'>\n",
      "<class 'float'>\n"
     ]
    }
   ],
   "source": [
    "# solution\n",
    "print(type(v0))\n",
    "print(type(v1))\n",
    "print(type(v01_multi))"
   ]
  },
  {
   "cell_type": "markdown",
   "metadata": {},
   "source": [
    "***"
   ]
  },
  {
   "cell_type": "markdown",
   "metadata": {},
   "source": [
    "# Section 2"
   ]
  },
  {
   "cell_type": "markdown",
   "metadata": {},
   "source": [
    "Create and print a `anchovies` list with the [commercial species of Anchovies](https://en.wikipedia.org/wiki/Anchovy#Commercial_species):"
   ]
  },
  {
   "cell_type": "code",
   "execution_count": 8,
   "metadata": {},
   "outputs": [
    {
     "name": "stdout",
     "output_type": "stream",
     "text": [
      "['European anchovy', 'Argentine anchoita', 'Californian anchovy', 'Japanese anchovy', 'Peruvian anchoveta', 'Southern African anchovy']\n"
     ]
    }
   ],
   "source": [
    "# solution\n",
    "anchovies = [\"European anchovy\", \"Argentine anchoita\", \"Californian anchovy\", \n",
    "            \"Japanese anchovy\", \"Peruvian anchoveta\", \"Southern African anchovy\"]\n",
    "print(anchovies)"
   ]
  },
  {
   "cell_type": "markdown",
   "metadata": {},
   "source": [
    "Print the number of species in the `anchovies` list:"
   ]
  },
  {
   "cell_type": "code",
   "execution_count": 9,
   "metadata": {},
   "outputs": [
    {
     "name": "stdout",
     "output_type": "stream",
     "text": [
      "6\n"
     ]
    }
   ],
   "source": [
    "# solution\n",
    "print(len(anchovies))"
   ]
  },
  {
   "cell_type": "markdown",
   "metadata": {},
   "source": [
    "Count how many species of anchovies have `\"anchovy\"` as a component of the common name: "
   ]
  },
  {
   "cell_type": "code",
   "execution_count": 10,
   "metadata": {},
   "outputs": [
    {
     "name": "stdout",
     "output_type": "stream",
     "text": [
      "There are 4 species with anchovy as a component of the common name\n"
     ]
    }
   ],
   "source": [
    "# solution\n",
    "count = 0\n",
    "for anchovy_name in anchovies:\n",
    "    name_parts = anchovy_name.split()\n",
    "    for name_part in name_parts:\n",
    "        if name_part == \"anchovy\":\n",
    "            count += 1\n",
    "            \n",
    "print(\"There are %d species with anchovy as a component of the common name\" % count)    "
   ]
  },
  {
   "cell_type": "markdown",
   "metadata": {},
   "source": [
    "***"
   ]
  },
  {
   "cell_type": "markdown",
   "metadata": {},
   "source": [
    "# Section 3"
   ]
  },
  {
   "cell_type": "markdown",
   "metadata": {},
   "source": [
    "Create and print a `shrimps` dictionary with common name (as keys) and scientific name (as values) for [commercial species of shrimps](https://en.wikipedia.org/wiki/Shrimp#Commercial_species):"
   ]
  },
  {
   "cell_type": "code",
   "execution_count": 11,
   "metadata": {},
   "outputs": [
    {
     "name": "stdout",
     "output_type": "stream",
     "text": [
      "{'Whiteleg shrimp': 'Litopenaeus vannamei', 'Giant tiger prawn': 'Penaeus monodon', 'Akiami paste shrimp': 'Acetes japonicus', 'Southern rough shrimp': 'Trachysalambria curvirostris', 'Fleshy prawn': 'Fenneropenaeus chinensis', 'Banana prawn': 'Fenneropenaeus merguiensis', 'Northern prawn': 'Pandalus borealis'}\n"
     ]
    }
   ],
   "source": [
    "# solution\n",
    "shrimps = dict()\n",
    "shrimps[\"Whiteleg shrimp\"] = \"Litopenaeus vannamei\"\n",
    "shrimps[\"Giant tiger prawn\"] = \"Penaeus monodon\"\n",
    "shrimps[\"Akiami paste shrimp\"] = \"Acetes japonicus\"\n",
    "shrimps[\"Southern rough shrimp\"] = \"Trachysalambria curvirostris\"\n",
    "shrimps[\"Fleshy prawn\"] = \"Fenneropenaeus chinensis\"\n",
    "shrimps[\"Banana prawn\"] = \"Fenneropenaeus merguiensis\"\n",
    "shrimps[\"Northern prawn\"] = \"Pandalus borealis\"\n",
    "print(shrimps)"
   ]
  },
  {
   "cell_type": "markdown",
   "metadata": {},
   "source": [
    "Create a `selected_shrimp` variable with the common name of a shrimp of your choice:"
   ]
  },
  {
   "cell_type": "code",
   "execution_count": 12,
   "metadata": {},
   "outputs": [],
   "source": [
    "# solution\n",
    "selected_shrimp = \"Giant tiger prawn\""
   ]
  },
  {
   "cell_type": "markdown",
   "metadata": {},
   "source": [
    "Create and print a sentence containing both the `selected_shrimp` and the corresponding scientific name retrieved from the `shrimps` dictionary:"
   ]
  },
  {
   "cell_type": "code",
   "execution_count": 13,
   "metadata": {},
   "outputs": [
    {
     "name": "stdout",
     "output_type": "stream",
     "text": [
      "The scientific name of the Giant tiger prawn is Penaeus monodon.\n"
     ]
    }
   ],
   "source": [
    "# solution\n",
    "print(\"The scientific name of the %s is %s.\" % (selected_shrimp, shrimps[selected_shrimp]))"
   ]
  },
  {
   "cell_type": "markdown",
   "metadata": {},
   "source": [
    "***"
   ]
  },
  {
   "cell_type": "markdown",
   "metadata": {},
   "source": [
    "# Section 4"
   ]
  },
  {
   "cell_type": "markdown",
   "metadata": {},
   "source": [
    "Print a meaningful warning for temperature values that are:\n",
    "* Less than 10.0 degrees Celsius, and\n",
    "* Equal or greater than 24.5 degrees Celsius:"
   ]
  },
  {
   "cell_type": "code",
   "execution_count": 14,
   "metadata": {},
   "outputs": [
    {
     "name": "stdout",
     "output_type": "stream",
     "text": [
      "Warning: temperature is 9.2 degrees Celsius\n",
      "Warning: temperature is 24.5 degrees Celsius\n",
      "Warning: temperature is 25.3 degrees Celsius\n"
     ]
    }
   ],
   "source": [
    "temp_list = [15.6, 10.1, 10.0, 9.2, 15.4, 13.7, 24.5, 25.3]\n",
    "\n",
    "# solution\n",
    "for temp_value in temp_list:\n",
    "    \n",
    "    if (temp_value < 10.0) or (temp_value >= 24.5):\n",
    "        print(\"Warning: temperature is %.1f degrees Celsius\" % (temp_value, ))"
   ]
  },
  {
   "cell_type": "markdown",
   "metadata": {},
   "source": [
    "***"
   ]
  },
  {
   "cell_type": "markdown",
   "metadata": {},
   "source": [
    "# Section 5"
   ]
  },
  {
   "cell_type": "markdown",
   "metadata": {},
   "source": [
    "Populate and print a `section_metadata` dictionary containing the following two keys:\n",
    "* Your \"first_name\", and\n",
    "* Your \"email\":"
   ]
  },
  {
   "cell_type": "code",
   "execution_count": 15,
   "metadata": {},
   "outputs": [
    {
     "name": "stdout",
     "output_type": "stream",
     "text": [
      "{'first_name': 'Giuseppe', 'email': 'gmasetti@ccom.unh.edu'}\n"
     ]
    }
   ],
   "source": [
    "# solution\n",
    "section_metadata = dict()\n",
    "section_metadata[\"first_name\"] = \"Giuseppe\"\n",
    "section_metadata[\"email\"] = \"gmasetti@ccom.unh.edu\"\n",
    "\n",
    "print(section_metadata)"
   ]
  },
  {
   "cell_type": "markdown",
   "metadata": {},
   "source": [
    "Create a sentence containing all the values in `section_metadata` and assign it to the `section_sentence` variable. Then print `section_sentence`:"
   ]
  },
  {
   "cell_type": "code",
   "execution_count": 16,
   "metadata": {},
   "outputs": [
    {
     "name": "stdout",
     "output_type": "stream",
     "text": [
      "Giuseppe's email is gmasetti@ccom.unh.edu\n"
     ]
    }
   ],
   "source": [
    "# solution\n",
    "section_sentence = \"%s's email is %s\" % (section_metadata[\"first_name\"], \n",
    "                                         section_metadata[\"email\"])\n",
    "print(section_sentence)"
   ]
  },
  {
   "cell_type": "markdown",
   "metadata": {},
   "source": [
    "***"
   ]
  },
  {
   "cell_type": "markdown",
   "metadata": {},
   "source": [
    "# Section 6"
   ]
  },
  {
   "cell_type": "markdown",
   "metadata": {},
   "source": [
    "Create a `ConductivityData` class with the following two class attributes:\n",
    "* A `values` list for the conductivity data.\n",
    "* A `metadata` dictionary."
   ]
  },
  {
   "cell_type": "code",
   "execution_count": 17,
   "metadata": {},
   "outputs": [],
   "source": [
    "# solution\n",
    "class ConductivityData:\n",
    "    \"\"\"A class for conductivity data\"\"\"\n",
    "    \n",
    "    def __init__(self):\n",
    "        self.values = list()\n",
    "        self.metadata = dict()"
   ]
  },
  {
   "cell_type": "markdown",
   "metadata": {},
   "source": [
    "Create a `conductivity` instance of `ConductivityData`, then print its empty list of values:"
   ]
  },
  {
   "cell_type": "code",
   "execution_count": 18,
   "metadata": {},
   "outputs": [
    {
     "name": "stdout",
     "output_type": "stream",
     "text": [
      "[]\n"
     ]
    }
   ],
   "source": [
    "# solution\n",
    "conductivity = ConductivityData()\n",
    "print(conductivity.values)"
   ]
  },
  {
   "cell_type": "markdown",
   "metadata": {},
   "source": [
    "Populate the `values` of `conductivity` with the following values: 38.09, 39.06, 38.61, 38.40, then print the `values`:"
   ]
  },
  {
   "cell_type": "code",
   "execution_count": 19,
   "metadata": {},
   "outputs": [
    {
     "name": "stdout",
     "output_type": "stream",
     "text": [
      "[38.09, 39.06, 38.61, 38.4]\n"
     ]
    }
   ],
   "source": [
    "# solution\n",
    "conductivity.values.append(38.09)\n",
    "conductivity.values.append(39.06)\n",
    "conductivity.values.append(38.61)\n",
    "conductivity.values.append(38.40)\n",
    "print(conductivity.values)"
   ]
  },
  {
   "cell_type": "markdown",
   "metadata": {},
   "source": [
    "Populate and print the `metadata` of `conductivity` with:\n",
    "- `\"collection_time\"`: August 23, 2019 at 10:03 pm,\n",
    "- `\"uom\"` (unit of measure): mS/cm."
   ]
  },
  {
   "cell_type": "code",
   "execution_count": 20,
   "metadata": {},
   "outputs": [
    {
     "name": "stdout",
     "output_type": "stream",
     "text": [
      "{'collection time': datetime.datetime(2019, 8, 23, 22, 3), 'uom': 'mS/cm'}\n"
     ]
    }
   ],
   "source": [
    "from datetime import datetime\n",
    "\n",
    "# solution\n",
    "conductivity.metadata[\"collection time\"] = datetime(2019, 8, 23, 22, 3, 0)\n",
    "conductivity.metadata[\"uom\"] = \"mS/cm\"\n",
    "print(conductivity.metadata)"
   ]
  },
  {
   "cell_type": "markdown",
   "metadata": {},
   "source": [
    "***"
   ]
  },
  {
   "cell_type": "markdown",
   "metadata": {},
   "source": [
    "# Section 7"
   ]
  },
  {
   "cell_type": "markdown",
   "metadata": {},
   "source": [
    "Write a `from_ft_to_m` function that convert a value from [feet to meters](https://en.wikipedia.org/wiki/Foot_(unit)):"
   ]
  },
  {
   "cell_type": "code",
   "execution_count": 21,
   "metadata": {},
   "outputs": [],
   "source": [
    "# solution\n",
    "def from_ft_to_m(input_value):\n",
    "    return input_value * 0.3048"
   ]
  },
  {
   "cell_type": "markdown",
   "metadata": {},
   "source": [
    "Use the `from_ft_to_m` function to print in meters the values in feet stored in the `depth_list`:"
   ]
  },
  {
   "cell_type": "code",
   "execution_count": 22,
   "metadata": {},
   "outputs": [
    {
     "name": "stdout",
     "output_type": "stream",
     "text": [
      "0.00 ft = 0.00 m\n",
      "3.00 ft = 0.91 m\n",
      "10.00 ft = 3.05 m\n",
      "20.00 ft = 6.10 m\n",
      "100.00 ft = 30.48 m\n",
      "153.10 ft = 46.66 m\n"
     ]
    }
   ],
   "source": [
    "depth_list = [0.0, 3.0, 10.0, 20.0, 100.0, 153.1] # feet\n",
    "\n",
    "# solution\n",
    "for depth_value in depth_list:\n",
    "    print(\"%.2f ft = %.2f m\" % (depth_value, from_ft_to_m(depth_value)))"
   ]
  },
  {
   "cell_type": "markdown",
   "metadata": {},
   "source": [
    "***"
   ]
  },
  {
   "cell_type": "markdown",
   "metadata": {},
   "source": [
    "# Section 8"
   ]
  },
  {
   "cell_type": "markdown",
   "metadata": {},
   "source": [
    "The `temp_path` variable points to a file containing temperature values.\n",
    "How many temperature values stored in the file are equal or less than 11.3 degrees Celsius? Print the answer:"
   ]
  },
  {
   "cell_type": "code",
   "execution_count": 23,
   "metadata": {},
   "outputs": [
    {
     "name": "stdout",
     "output_type": "stream",
     "text": [
      "There are 2 values of temperature equal or less than 11.3 degrees Celsisu\n"
     ]
    }
   ],
   "source": [
    "import os\n",
    "temp_path = os.path.abspath(os.path.join(os.path.curdir, \"data\", \"temp.txt\"))\n",
    "\n",
    "# solution\n",
    "temp_file = open(temp_path)\n",
    "temp_content = temp_file.read()\n",
    "temp_file.close()\n",
    "\n",
    "count = 0\n",
    "temp_lines = temp_content.splitlines()\n",
    "for temp_line in temp_lines:\n",
    "    if float(temp_line) <= 11.3:\n",
    "        count += 1  # equivalent to: count = count + 1\n",
    "        \n",
    "print(\"There are %d values of temperature equal or less than 11.3 degrees Celsisu\" % (count, ))"
   ]
  },
  {
   "cell_type": "markdown",
   "metadata": {},
   "source": [
    "***"
   ]
  },
  {
   "cell_type": "markdown",
   "metadata": {},
   "source": [
    "# Section 9"
   ]
  },
  {
   "cell_type": "markdown",
   "metadata": {},
   "source": [
    "Add a note in the \"community\" folder on [Piazza.com](https://piazza.com/class/js5dnu0q39n6qe) suggesting an useful exercise to be added to the \"Programming Basics with Python\" notebooks ."
   ]
  },
  {
   "cell_type": "markdown",
   "metadata": {},
   "source": [
    "***"
   ]
  },
  {
   "cell_type": "markdown",
   "metadata": {},
   "source": [
    "<img align=\"left\" width=\"5%\" style=\"padding-right:10px;\" src=\"images/email.png\">\n",
    "\n",
    "*For issues or suggestions related to this notebook, write to: epom@ccom.unh.edu*"
   ]
  }
 ],
 "metadata": {
  "kernelspec": {
   "display_name": "Python 3",
   "language": "python",
   "name": "python3"
  },
  "language_info": {
   "codemirror_mode": {
    "name": "ipython",
    "version": 3
   },
   "file_extension": ".py",
   "mimetype": "text/x-python",
   "name": "python",
   "nbconvert_exporter": "python",
   "pygments_lexer": "ipython3",
   "version": "3.6.7"
  }
 },
 "nbformat": 4,
 "nbformat_minor": 2
}
